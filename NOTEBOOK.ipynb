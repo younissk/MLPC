{
 "cells": [
  {
   "cell_type": "code",
   "execution_count": 1,
   "id": "9b8834a2",
   "metadata": {
    "jupyter": {
     "is_executing": true
    },
    "vscode": {
     "languageId": "python"
    }
   },
   "outputs": [],
   "source": [
    "import numpy as np\n",
    "import pandas as pd\n",
    "import os\n",
    "import matplotlib.pyplot as plt"
   ]
  },
  {
   "cell_type": "code",
   "execution_count": 2,
   "id": "8f013f6d",
   "metadata": {
    "jupyter": {
     "is_executing": true
    },
    "vscode": {
     "languageId": "python"
    }
   },
   "outputs": [],
   "source": [
    "# load the metadata\n",
    "metadata_df = pd.read_csv(\"metadata.csv\")\n",
    "title_embeddings = np.load(\"metadata_title_embeddings.npz\")[\"embeddings\"]\n",
    "keywords_embeddings = np.load(\"metadata_keywords_embeddings.npz\")[\"embeddings\"]"
   ]
  },
  {
   "cell_type": "code",
   "execution_count": 3,
   "id": "a69f2a91",
   "metadata": {
    "vscode": {
     "languageId": "python"
    }
   },
   "outputs": [
    {
     "data": {
      "text/html": [
       "<div>\n",
       "<style scoped>\n",
       "    .dataframe tbody tr th:only-of-type {\n",
       "        vertical-align: middle;\n",
       "    }\n",
       "\n",
       "    .dataframe tbody tr th {\n",
       "        vertical-align: top;\n",
       "    }\n",
       "\n",
       "    .dataframe thead th {\n",
       "        text-align: right;\n",
       "    }\n",
       "</style>\n",
       "<table border=\"1\" class=\"dataframe\">\n",
       "  <thead>\n",
       "    <tr style=\"text-align: right;\">\n",
       "      <th></th>\n",
       "      <th>keywords</th>\n",
       "      <th>freesound_id</th>\n",
       "      <th>sound_link</th>\n",
       "      <th>manufacturer</th>\n",
       "      <th>license</th>\n",
       "      <th>title</th>\n",
       "      <th>description</th>\n",
       "      <th>num_downloads</th>\n",
       "      <th>geotag</th>\n",
       "      <th>start_time_s</th>\n",
       "      <th>end_time_s</th>\n",
       "    </tr>\n",
       "    <tr>\n",
       "      <th>filename</th>\n",
       "      <th></th>\n",
       "      <th></th>\n",
       "      <th></th>\n",
       "      <th></th>\n",
       "      <th></th>\n",
       "      <th></th>\n",
       "      <th></th>\n",
       "      <th></th>\n",
       "      <th></th>\n",
       "      <th></th>\n",
       "      <th></th>\n",
       "    </tr>\n",
       "  </thead>\n",
       "  <tbody>\n",
       "    <tr>\n",
       "      <th>617030.mp3</th>\n",
       "      <td>atmosphere, general-noise, suburban, ambiance,...</td>\n",
       "      <td>617030</td>\n",
       "      <td>https://freesound.org/people/klankbeeld/sounds...</td>\n",
       "      <td>klankbeeld</td>\n",
       "      <td>https://creativecommons.org/licenses/by/4.0/</td>\n",
       "      <td>suburb night NL 1041PM 210415_0279.wav</td>\n",
       "      <td>Night in a suburban city.  All sounds far. Tra...</td>\n",
       "      <td>65</td>\n",
       "      <td>51.7090740261 5.30657821347</td>\n",
       "      <td>15.6</td>\n",
       "      <td>43.535</td>\n",
       "    </tr>\n",
       "    <tr>\n",
       "      <th>637408.mp3</th>\n",
       "      <td>jackhammer, construction, reflected</td>\n",
       "      <td>637408</td>\n",
       "      <td>https://freesound.org/people/kyles/sounds/637408/</td>\n",
       "      <td>kyles</td>\n",
       "      <td>http://creativecommons.org/publicdomain/zero/1.0/</td>\n",
       "      <td>construction jackhammer reflected5.flac</td>\n",
       "      <td>construction jackhammer reflected5\\n\\nrecorded...</td>\n",
       "      <td>23</td>\n",
       "      <td>NaN</td>\n",
       "      <td>209.8</td>\n",
       "      <td>232.356</td>\n",
       "    </tr>\n",
       "  </tbody>\n",
       "</table>\n",
       "</div>"
      ],
      "text/plain": [
       "                                                     keywords  freesound_id  \\\n",
       "filename                                                                      \n",
       "617030.mp3  atmosphere, general-noise, suburban, ambiance,...        617030   \n",
       "637408.mp3                jackhammer, construction, reflected        637408   \n",
       "\n",
       "                                                   sound_link manufacturer  \\\n",
       "filename                                                                     \n",
       "617030.mp3  https://freesound.org/people/klankbeeld/sounds...   klankbeeld   \n",
       "637408.mp3  https://freesound.org/people/kyles/sounds/637408/        kyles   \n",
       "\n",
       "                                                      license  \\\n",
       "filename                                                        \n",
       "617030.mp3       https://creativecommons.org/licenses/by/4.0/   \n",
       "637408.mp3  http://creativecommons.org/publicdomain/zero/1.0/   \n",
       "\n",
       "                                              title  \\\n",
       "filename                                              \n",
       "617030.mp3   suburb night NL 1041PM 210415_0279.wav   \n",
       "637408.mp3  construction jackhammer reflected5.flac   \n",
       "\n",
       "                                                  description  num_downloads  \\\n",
       "filename                                                                       \n",
       "617030.mp3  Night in a suburban city.  All sounds far. Tra...             65   \n",
       "637408.mp3  construction jackhammer reflected5\\n\\nrecorded...             23   \n",
       "\n",
       "                                 geotag  start_time_s  end_time_s  \n",
       "filename                                                           \n",
       "617030.mp3  51.7090740261 5.30657821347          15.6      43.535  \n",
       "637408.mp3                          NaN         209.8     232.356  "
      ]
     },
     "execution_count": 3,
     "metadata": {},
     "output_type": "execute_result"
    }
   ],
   "source": [
    "# Setting index\n",
    "metadata_df.set_index(\"filename\", inplace=True)\n",
    "metadata_df.head(2)\n"
   ]
  },
  {
   "cell_type": "markdown",
   "id": "752a6fab",
   "metadata": {},
   "source": [
    "## metadata_df General look"
   ]
  },
  {
   "cell_type": "code",
   "execution_count": 4,
   "id": "1cb4291d",
   "metadata": {
    "vscode": {
     "languageId": "python"
    }
   },
   "outputs": [
    {
     "name": "stdout",
     "output_type": "stream",
     "text": [
      "    Shape of Data Frame:\n",
      "DataFrame shape: \t (9026, 11)\n",
      "DataFrame rows: \t 9026\n",
      "DataFrame columns: \t 11\n",
      "DataFrame column names: \n",
      " ['keywords', 'freesound_id', 'sound_link', 'manufacturer', 'license', 'title', 'description', 'num_downloads', 'geotag', 'start_time_s', 'end_time_s']\n"
     ]
    }
   ],
   "source": [
    "##  Shape of Data Frame\n",
    "print(\"    Shape of Data Frame:\")\n",
    "print(\"DataFrame shape: \\t\", metadata_df.shape)\n",
    "print(\"DataFrame rows: \\t\", len(metadata_df.index))\n",
    "print(\"DataFrame columns: \\t\", len(metadata_df.columns))\n",
    "print(\"DataFrame column names: \\n\", metadata_df.columns.to_list())\n",
    "\n",
    "# # select a column\n",
    "# metadata['keywords']\n",
    "# metadata.loc[:, 'keywords']\n",
    "# metadata[['title', 'keywords']]\n",
    "\n",
    "# # select a row\n",
    "# metadata.loc['450016.mp3']\n",
    "# metadata.loc[['438858.mp3', '128446.mp3'], [\"title\", \"manufacturer\"]]\n",
    "\n",
    "#select a row based on a condition\n",
    "# (metadata['manufacturer'] == 'FullMetalJedi').head(n=3)\n"
   ]
  },
  {
   "cell_type": "markdown",
   "id": "9b93d08d",
   "metadata": {},
   "source": [
    "## Annotations file"
   ]
  },
  {
   "cell_type": "code",
   "execution_count": 5,
   "id": "3826d4a6",
   "metadata": {
    "vscode": {
     "languageId": "python"
    }
   },
   "outputs": [
    {
     "data": {
      "text/html": [
       "<div>\n",
       "<style scoped>\n",
       "    .dataframe tbody tr th:only-of-type {\n",
       "        vertical-align: middle;\n",
       "    }\n",
       "\n",
       "    .dataframe tbody tr th {\n",
       "        vertical-align: top;\n",
       "    }\n",
       "\n",
       "    .dataframe thead th {\n",
       "        text-align: right;\n",
       "    }\n",
       "</style>\n",
       "<table border=\"1\" class=\"dataframe\">\n",
       "  <thead>\n",
       "    <tr style=\"text-align: right;\">\n",
       "      <th></th>\n",
       "      <th>task_id</th>\n",
       "      <th>filename</th>\n",
       "      <th>annotator</th>\n",
       "      <th>text</th>\n",
       "      <th>onset</th>\n",
       "      <th>offset</th>\n",
       "      <th>filename_unsafe</th>\n",
       "    </tr>\n",
       "  </thead>\n",
       "  <tbody>\n",
       "    <tr>\n",
       "      <th>0</th>\n",
       "      <td>161977861</td>\n",
       "      <td>560761.mp3</td>\n",
       "      <td>5945971035380930099053858595454362549806990533...</td>\n",
       "      <td>bird twitters nearby with a high pitch two times</td>\n",
       "      <td>16.552368</td>\n",
       "      <td>17.271435</td>\n",
       "      <td>560761_tufted titmouse calling.mp3</td>\n",
       "    </tr>\n",
       "  </tbody>\n",
       "</table>\n",
       "</div>"
      ],
      "text/plain": [
       "     task_id    filename                                          annotator  \\\n",
       "0  161977861  560761.mp3  5945971035380930099053858595454362549806990533...   \n",
       "\n",
       "                                               text      onset     offset  \\\n",
       "0  bird twitters nearby with a high pitch two times  16.552368  17.271435   \n",
       "\n",
       "                      filename_unsafe  \n",
       "0  560761_tufted titmouse calling.mp3  "
      ]
     },
     "execution_count": 5,
     "metadata": {},
     "output_type": "execute_result"
    }
   ],
   "source": [
    "annotations = pd.read_csv(\"annotations.csv\")\n",
    "# making duration column\n",
    "# annotations[\"duartion\"] = annotations[\"offset\"] - annotations[\"onset\"]\n",
    "annotations.head(1)\n"
   ]
  },
  {
   "cell_type": "code",
   "execution_count": 6,
   "id": "e2190969",
   "metadata": {
    "vscode": {
     "languageId": "python"
    }
   },
   "outputs": [
    {
     "name": "stdout",
     "output_type": "stream",
     "text": [
      "    Shape of annotation:\n",
      "DataFrame shape: \t (35826, 7)\n",
      "DataFrame rows: \t 35826\n",
      "DataFrame columns: \t 7\n",
      "DataFrame column names: \n",
      " ['task_id', 'filename', 'annotator', 'text', 'onset', 'offset', 'filename_unsafe']\n",
      "\n",
      " number of Annotators (each one annotatd many times): 9026\n"
     ]
    }
   ],
   "source": [
    "print(\"    Shape of annotation:\")\n",
    "print(\"DataFrame shape: \\t\", annotations.shape)\n",
    "print(\"DataFrame rows: \\t\", len(annotations.index))\n",
    "print(\"DataFrame columns: \\t\", len(annotations.columns))\n",
    "print(\"DataFrame column names: \\n\", annotations.columns.to_list())\n",
    "\n",
    "# num annotaors for each audio recording\n",
    "num_annotators = annotations.groupby(\"filename\")[\"annotator\"].nunique()\n",
    "print(f'\\n number of Annotators (each one annotatd many times): {len(num_annotators)}')  "
   ]
  },
  {
   "cell_type": "code",
   "execution_count": 7,
   "id": "1cc31a79",
   "metadata": {
    "vscode": {
     "languageId": "python"
    }
   },
   "outputs": [],
   "source": [
    "# # filtering files with more than 1 annotator\n",
    "# multi_annotators = num_annotators[num_annotators > 1]\n",
    "# print(f'number of Annotators (each one annotatd many times): {len(multi_annotators)}')\n",
    "\n",
    "# # Filter metadata_df and annotations using multi_annotators\n",
    "# filtered_metadata = metadata_df.loc[multi_annotators]\n",
    "# filtered_annotations = annotations[annotations[\"filename\"].isin(multi_annotators)]\n",
    "\n",
    "\n",
    "\n",
    "\n"
   ]
  },
  {
   "cell_type": "markdown",
   "id": "e1dcba86",
   "metadata": {},
   "source": [
    "## 2. Annotation Quality"
   ]
  },
  {
   "cell_type": "markdown",
   "id": "6ddb6cd1",
   "metadata": {},
   "source": [
    "## Use the complete data set (or a subset) to address the following points quantitatively.\n",
    "\n",
    "(a) How many annotations did we collect per file? \\\n",
    "    How many distinct sound events per file?"
   ]
  },
  {
   "cell_type": "code",
   "execution_count": 8,
   "id": "21c81f16",
   "metadata": {
    "vscode": {
     "languageId": "python"
    }
   },
   "outputs": [
    {
     "name": "stdout",
     "output_type": "stream",
     "text": [
      "Min:  1\n",
      "Max:  96\n",
      "Mean:  3.9692000886328387\n",
      "Median:  2.0\n"
     ]
    },
    {
     "data": {
      "text/plain": [
       "'- max annotation count is 96 per file, min is 1, the mean is ~ 4,\\n But most files have 2-7 annotations (more density in this range).\\n- I took a look at 10 samples... --> most events had 1-4 different sound events.'"
      ]
     },
     "execution_count": 8,
     "metadata": {},
     "output_type": "execute_result"
    }
   ],
   "source": [
    "# annotation count per task/file\n",
    "annotation_counts = annotations[\"task_id\"].value_counts()\n",
    "print(\"Min: \", annotation_counts.min())\n",
    "print(\"Max: \", annotation_counts.max())\n",
    "print(\"Mean: \", annotation_counts.mean())\n",
    "print(\"Median: \", annotation_counts.median())\n",
    "\n",
    "\n",
    "\n",
    "# ANSWER\n",
    "\"\"\"- max annotation count is 96 per file, min is 1, the mean is ~ 4,\n",
    " But most files have 2-7 annotations (more density in this range).\n",
    "- I took a look at 10 samples... --> most events had 1-4 different sound events.\"\"\""
   ]
  },
  {
   "cell_type": "markdown",
   "id": "173a38e5",
   "metadata": {},
   "source": [
    "##  (b) How detailed are the text annotations? How much does the quality of annotations vary between different annotators?"
   ]
  },
  {
   "cell_type": "code",
   "execution_count": 9,
   "id": "3543aac2",
   "metadata": {
    "vscode": {
     "languageId": "python"
    }
   },
   "outputs": [
    {
     "name": "stdout",
     "output_type": "stream",
     "text": [
      "Annotations for 109434.mp3:\n",
      "1: A loud police-siren goes on and off in a rhythmic pattern neither fading nor increasing.\n",
      "\n",
      "\n",
      "Annotations for 109793.mp3:\n",
      "1: A string instrument gets very deep note plucked with long decay\n",
      "\n",
      "\n",
      "Annotations for 110129.mp3:\n",
      "1: sound of a bus engine\n",
      "\n",
      "\n",
      "Annotations for 110133.mp3:\n",
      "1: continuous alarm of a cardreader next to a door, repeated sound with 500 milliseconds beep and 500 ms pause\n",
      "\n",
      "\n",
      "Annotations for 110210.mp3:\n",
      "1: A person close-by laughing in a lobby.\n",
      "2: A baby repeatedly and faintly crying in a lobby\n",
      "3: A baby faintly repeatedly crying in a lobby\n",
      "4: A clear and very loud cry from a child in a lowly crouded lobby.\n",
      "\n",
      "\n",
      "Annotations for 110219.mp3:\n",
      "1: brass band playing continuously\n",
      "2: brass band playing continuously\n",
      "\n",
      "\n",
      "Annotations for 110260.mp3:\n",
      "1: Rhythmic trumpets are heard clearly, their bright, brassy sound cutting through the air with a lively and energetic tune.\n",
      "2: Rhythmic trumpets are heard clearly, their bright, brassy sound cutting through the air with a lively and energetic tune.\n",
      "\n",
      "\n",
      "Annotations for 110310.mp3:\n",
      "1: The sound of cars driving and passing by on a lively city street\n",
      "\n",
      "\n",
      "Annotations for 110317.mp3:\n",
      "1: Repeated brass fanfare phrases with noticeable pauses between them, including a faint beeping sound typical of a recording device in between segments.\n",
      "2: Beeping sound, like something starting recording.\n",
      "\n",
      "\n",
      "Annotations for 110336.mp3:\n",
      "1: Noisy sound come from the electric guitar\n",
      "2: Noisy sound come from the electric guitar\n",
      "\n",
      "\n"
     ]
    }
   ],
   "source": [
    "\"\"\"\n",
    "Took 10 samples.\n",
    "Created 10 lists of annotation of 10 different files.\n",
    "\"\"\"\n",
    "\n",
    "# first group the data by filename\n",
    "grouped_by_filename = annotations.groupby(\"filename\")\n",
    "\n",
    "# get 10 random filenames from the grouped data\n",
    "subset_filenames = list(grouped_by_filename.groups.keys())[100:110]\n",
    "\n",
    "#loop over each group of each file and get the annotations in lists\n",
    "annotations_list = []\n",
    "for filename in subset_filenames:\n",
    "    annotations_list.append(grouped_by_filename.get_group(filename)[\"text\"].to_list())\n",
    "# print the annotations for each file\n",
    "for i, filename in enumerate(subset_filenames):\n",
    "    print(f\"Annotations for {filename}:\")\n",
    "    for j, annotation in enumerate(annotations_list[i]):\n",
    "        print(f\"{j + 1}: {annotation}\")\n",
    "    print(\"\\n\")\n"
   ]
  },
  {
   "cell_type": "code",
   "execution_count": 10,
   "id": "a4f9bf73",
   "metadata": {
    "vscode": {
     "languageId": "python"
    }
   },
   "outputs": [],
   "source": [
    "# second_file = annotations.loc[\"127606.mp3\"]\n",
    "# num_annotators = second_file[\"annotator\"].nunique()\n",
    "\n",
    "# print(f'WE have ({len(second_file)}) annotations from ({num_annotators}) annotators for 127606.mp3')\n",
    "\n",
    "# num_annotators = second_file[\"annotator\"].nunique()\n",
    "# print(f'WE have ({num_annotators}) annotators for 127606.mp3')\n",
    "\n",
    "# annotations_2nd_file = second_file[\"text\"].to_list()\n",
    "# for ann in annotations_2nd_file: #print the annotations\n",
    "#     print(ann)\n",
    "\n",
    "# second_file.head(1)\n"
   ]
  },
  {
   "cell_type": "code",
   "execution_count": 11,
   "id": "5f2fef72",
   "metadata": {
    "vscode": {
     "languageId": "python"
    }
   },
   "outputs": [
    {
     "data": {
      "image/png": "[encoded data removed]",
      "text/plain": [
       "<Figure size 700x400 with 1 Axes>"
      ]
     },
     "metadata": {},
     "output_type": "display_data"
    }
   ],
   "source": [
    "plt.title(\"Histogram of anotations Counts\")\n",
    "annotation_counts.plot.hist(bins=annotation_counts.max(), figsize=(7, 4))\n",
    "plt.xlabel(\"annotation counts\")\n",
    "plt.show()\n",
    "# # another plot with zoom on x-axis\n",
    "# plt.title(\"ZOOM Histogram of anotations Counts\")\n",
    "# annotation_counts.plot.hist(bins=annotation_counts.max(), figsize=(7, 4))\n",
    "# plt.xlim(0, 20)\n",
    "# plt.xlabel(\"annotation counts\")\n",
    "# plt.show()\n"
   ]
  },
  {
   "cell_type": "code",
   "execution_count": 12,
   "id": "de6697db",
   "metadata": {
    "vscode": {
     "languageId": "python"
    }
   },
   "outputs": [
    {
     "data": {
      "image/png": "[encoded data removed]",
      "text/plain": [
       "<Figure size 700x400 with 1 Axes>"
      ]
     },
     "metadata": {},
     "output_type": "display_data"
    }
   ],
   "source": [
    "# group by number of annotations that each user did for each task/file\n",
    "annotations_per_user = annotations.groupby(\"annotator\")[\"task_id\"].count()\n",
    "annotations_per_user \n",
    "# plot\n",
    "plt.title(\"Histogram of Annotations per User\")\n",
    "annotations_per_user.plot.hist(bins=annotations_per_user.max(), figsize=(7, 4))\n",
    "plt.xlabel(\"annotations per user\")\n",
    "plt.show()\n"
   ]
  },
  {
   "cell_type": "code",
   "execution_count": 13,
   "id": "a70ccc11",
   "metadata": {
    "vscode": {
     "languageId": "python"
    }
   },
   "outputs": [
    {
     "data": {
      "text/html": [
       "<div>\n",
       "<style scoped>\n",
       "    .dataframe tbody tr th:only-of-type {\n",
       "        vertical-align: middle;\n",
       "    }\n",
       "\n",
       "    .dataframe tbody tr th {\n",
       "        vertical-align: top;\n",
       "    }\n",
       "\n",
       "    .dataframe thead th {\n",
       "        text-align: right;\n",
       "    }\n",
       "</style>\n",
       "<table border=\"1\" class=\"dataframe\">\n",
       "  <thead>\n",
       "    <tr style=\"text-align: right;\">\n",
       "      <th></th>\n",
       "      <th>filename</th>\n",
       "      <th>text</th>\n",
       "    </tr>\n",
       "  </thead>\n",
       "  <tbody>\n",
       "    <tr>\n",
       "      <th>0</th>\n",
       "      <td>560761.mp3</td>\n",
       "      <td>bird twitters nearby with a high pitch two times</td>\n",
       "    </tr>\n",
       "    <tr>\n",
       "      <th>1</th>\n",
       "      <td>240538.mp3</td>\n",
       "      <td>A cow bell clinging repeatedly</td>\n",
       "    </tr>\n",
       "    <tr>\n",
       "      <th>2</th>\n",
       "      <td>660337.mp3</td>\n",
       "      <td>A child speaks with a high-pitched voice</td>\n",
       "    </tr>\n",
       "    <tr>\n",
       "      <th>3</th>\n",
       "      <td>725686.mp3</td>\n",
       "      <td>A high pitch meowing coming from a cat</td>\n",
       "    </tr>\n",
       "    <tr>\n",
       "      <th>4</th>\n",
       "      <td>97606.mp3</td>\n",
       "      <td>An extremely loud brushing sound on a construc...</td>\n",
       "    </tr>\n",
       "    <tr>\n",
       "      <th>5</th>\n",
       "      <td>707789.mp3</td>\n",
       "      <td>licking and eating sound</td>\n",
       "    </tr>\n",
       "    <tr>\n",
       "      <th>6</th>\n",
       "      <td>501826.mp3</td>\n",
       "      <td>A powerful cymbal crash with a bright, metalli...</td>\n",
       "    </tr>\n",
       "    <tr>\n",
       "      <th>7</th>\n",
       "      <td>141704.mp3</td>\n",
       "      <td>crowd of people howling in arena</td>\n",
       "    </tr>\n",
       "    <tr>\n",
       "      <th>8</th>\n",
       "      <td>463807.mp3</td>\n",
       "      <td>Multiple ship horns</td>\n",
       "    </tr>\n",
       "    <tr>\n",
       "      <th>9</th>\n",
       "      <td>570488.mp3</td>\n",
       "      <td>An alarm siren sounding outdoors under windy c...</td>\n",
       "    </tr>\n",
       "    <tr>\n",
       "      <th>10</th>\n",
       "      <td>147543.mp3</td>\n",
       "      <td>woman laughing loudly, fading, indoor.</td>\n",
       "    </tr>\n",
       "    <tr>\n",
       "      <th>11</th>\n",
       "      <td>56696.mp3</td>\n",
       "      <td>A man talking loudly in the background</td>\n",
       "    </tr>\n",
       "    <tr>\n",
       "      <th>12</th>\n",
       "      <td>116485.mp3</td>\n",
       "      <td>A dog is barking furiously.</td>\n",
       "    </tr>\n",
       "    <tr>\n",
       "      <th>13</th>\n",
       "      <td>690473.mp3</td>\n",
       "      <td>birds chirping</td>\n",
       "    </tr>\n",
       "    <tr>\n",
       "      <th>14</th>\n",
       "      <td>365961.mp3</td>\n",
       "      <td>A man speaking in a deep, elongated voice with...</td>\n",
       "    </tr>\n",
       "    <tr>\n",
       "      <th>15</th>\n",
       "      <td>384475.mp3</td>\n",
       "      <td>loud urban traffic noise</td>\n",
       "    </tr>\n",
       "    <tr>\n",
       "      <th>16</th>\n",
       "      <td>616812.mp3</td>\n",
       "      <td>Someone hammering on stones</td>\n",
       "    </tr>\n",
       "    <tr>\n",
       "      <th>17</th>\n",
       "      <td>693427.mp3</td>\n",
       "      <td>A faint deep rumbling noise</td>\n",
       "    </tr>\n",
       "    <tr>\n",
       "      <th>18</th>\n",
       "      <td>569159.mp3</td>\n",
       "      <td>A fly flying loudly close</td>\n",
       "    </tr>\n",
       "    <tr>\n",
       "      <th>19</th>\n",
       "      <td>69212.mp3</td>\n",
       "      <td>A car door opens nearby</td>\n",
       "    </tr>\n",
       "  </tbody>\n",
       "</table>\n",
       "</div>"
      ],
      "text/plain": [
       "      filename                                               text\n",
       "0   560761.mp3   bird twitters nearby with a high pitch two times\n",
       "1   240538.mp3                     A cow bell clinging repeatedly\n",
       "2   660337.mp3          A child speaks with a high-pitched voice \n",
       "3   725686.mp3             A high pitch meowing coming from a cat\n",
       "4    97606.mp3  An extremely loud brushing sound on a construc...\n",
       "5   707789.mp3                           licking and eating sound\n",
       "6   501826.mp3  A powerful cymbal crash with a bright, metalli...\n",
       "7   141704.mp3                   crowd of people howling in arena\n",
       "8   463807.mp3                                Multiple ship horns\n",
       "9   570488.mp3  An alarm siren sounding outdoors under windy c...\n",
       "10  147543.mp3            woman laughing loudly, fading, indoor. \n",
       "11   56696.mp3             A man talking loudly in the background\n",
       "12  116485.mp3                        A dog is barking furiously.\n",
       "13  690473.mp3                                    birds chirping \n",
       "14  365961.mp3  A man speaking in a deep, elongated voice with...\n",
       "15  384475.mp3                           loud urban traffic noise\n",
       "16  616812.mp3                        Someone hammering on stones\n",
       "17  693427.mp3                        A faint deep rumbling noise\n",
       "18  569159.mp3                          A fly flying loudly close\n",
       "19   69212.mp3                            A car door opens nearby"
      ]
     },
     "execution_count": 13,
     "metadata": {},
     "output_type": "execute_result"
    }
   ],
   "source": [
    "annotations = pd.read_csv(\"annotations.csv\")\n",
    "annotations[[\"filename\",\"text\"]].head(20)"
   ]
  },
  {
   "cell_type": "code",
   "execution_count": 14,
   "id": "b4b5b416",
   "metadata": {
    "vscode": {
     "languageId": "python"
    }
   },
   "outputs": [
    {
     "name": "stdout",
     "output_type": "stream",
     "text": [
      "Number of duplicate rows: 141\n"
     ]
    },
    {
     "data": {
      "text/html": [
       "<div>\n",
       "<style scoped>\n",
       "    .dataframe tbody tr th:only-of-type {\n",
       "        vertical-align: middle;\n",
       "    }\n",
       "\n",
       "    .dataframe tbody tr th {\n",
       "        vertical-align: top;\n",
       "    }\n",
       "\n",
       "    .dataframe thead th {\n",
       "        text-align: right;\n",
       "    }\n",
       "</style>\n",
       "<table border=\"1\" class=\"dataframe\">\n",
       "  <thead>\n",
       "    <tr style=\"text-align: right;\">\n",
       "      <th></th>\n",
       "      <th>task_id</th>\n",
       "      <th>filename</th>\n",
       "      <th>annotator</th>\n",
       "      <th>text</th>\n",
       "      <th>onset</th>\n",
       "      <th>offset</th>\n",
       "      <th>filename_unsafe</th>\n",
       "    </tr>\n",
       "  </thead>\n",
       "  <tbody>\n",
       "    <tr>\n",
       "      <th>1212</th>\n",
       "      <td>161978343</td>\n",
       "      <td>729186.mp3</td>\n",
       "      <td>5560510890581392803743942761910818323546111204...</td>\n",
       "      <td>A kitten meows very protractedly one time clos...</td>\n",
       "      <td>14.616757</td>\n",
       "      <td>15.798844</td>\n",
       "      <td>729186_Young_Kitty_Meowing 3.mp3</td>\n",
       "    </tr>\n",
       "    <tr>\n",
       "      <th>3700</th>\n",
       "      <td>161976781</td>\n",
       "      <td>159322.mp3</td>\n",
       "      <td>8926896165619677042001572601386787190420972763...</td>\n",
       "      <td>Noisy, textured beep with a grainy edge, blend...</td>\n",
       "      <td>0.907811</td>\n",
       "      <td>1.347075</td>\n",
       "      <td>159322_dont you tell me - beeps 2wav.mp3</td>\n",
       "    </tr>\n",
       "    <tr>\n",
       "      <th>4159</th>\n",
       "      <td>161977676</td>\n",
       "      <td>394707.mp3</td>\n",
       "      <td>7199917567709710204485192252039334277832060890...</td>\n",
       "      <td>A flok of birds singing outside.</td>\n",
       "      <td>0.000000</td>\n",
       "      <td>23.668390</td>\n",
       "      <td>394707_170527_0032 dawsholm park with jesswav.mp3</td>\n",
       "    </tr>\n",
       "    <tr>\n",
       "      <th>6823</th>\n",
       "      <td>161978343</td>\n",
       "      <td>729186.mp3</td>\n",
       "      <td>5560510890581392803743942761910818323546111204...</td>\n",
       "      <td>A ball kicking the ground one time, distantly.</td>\n",
       "      <td>0.000000</td>\n",
       "      <td>0.339207</td>\n",
       "      <td>729186_Young_Kitty_Meowing 3.mp3</td>\n",
       "    </tr>\n",
       "    <tr>\n",
       "      <th>6828</th>\n",
       "      <td>161984876</td>\n",
       "      <td>482337.mp3</td>\n",
       "      <td>3687879004483607437843305961928520180301694036...</td>\n",
       "      <td>People talking loudly in a constant pattern in...</td>\n",
       "      <td>18.182063</td>\n",
       "      <td>20.676553</td>\n",
       "      <td>482337_Conversation in Class roomwav.mp3</td>\n",
       "    </tr>\n",
       "    <tr>\n",
       "      <th>8267</th>\n",
       "      <td>161983957</td>\n",
       "      <td>124678.mp3</td>\n",
       "      <td>1000854762852742563558281041488243758990786435...</td>\n",
       "      <td>a child is meowing</td>\n",
       "      <td>10.685926</td>\n",
       "      <td>11.929870</td>\n",
       "      <td>124678_noise doesnt exist_sound workshops_1607...</td>\n",
       "    </tr>\n",
       "    <tr>\n",
       "      <th>8581</th>\n",
       "      <td>161976946</td>\n",
       "      <td>98007.mp3</td>\n",
       "      <td>7526205831694568980367141074683662123375335303...</td>\n",
       "      <td>start race bleeps, first 3 repeated low pitche...</td>\n",
       "      <td>18.292501</td>\n",
       "      <td>22.090152</td>\n",
       "      <td>98007_Start race bleeps  2wav.mp3</td>\n",
       "    </tr>\n",
       "    <tr>\n",
       "      <th>8783</th>\n",
       "      <td>161978452</td>\n",
       "      <td>629649.mp3</td>\n",
       "      <td>2511836030875594054249018396648810123064624225...</td>\n",
       "      <td>metal gate screeching</td>\n",
       "      <td>14.602927</td>\n",
       "      <td>17.754497</td>\n",
       "      <td>629649_Screeching metal.mp3</td>\n",
       "    </tr>\n",
       "    <tr>\n",
       "      <th>9588</th>\n",
       "      <td>161978486</td>\n",
       "      <td>116483.mp3</td>\n",
       "      <td>1847409964593900791579168861090982009818939233...</td>\n",
       "      <td>A short, sharp, high-pitched bark.</td>\n",
       "      <td>0.075945</td>\n",
       "      <td>0.655022</td>\n",
       "      <td>116483_DogBarkPapillon01wav.mp3</td>\n",
       "    </tr>\n",
       "    <tr>\n",
       "      <th>10018</th>\n",
       "      <td>161978488</td>\n",
       "      <td>116485.mp3</td>\n",
       "      <td>2999735693560213149163242311436710771999021040...</td>\n",
       "      <td>A dog is barking furiously.</td>\n",
       "      <td>9.054397</td>\n",
       "      <td>9.800053</td>\n",
       "      <td>116485_DogBarkPapillon03wav.mp3</td>\n",
       "    </tr>\n",
       "  </tbody>\n",
       "</table>\n",
       "</div>"
      ],
      "text/plain": [
       "         task_id    filename  \\\n",
       "1212   161978343  729186.mp3   \n",
       "3700   161976781  159322.mp3   \n",
       "4159   161977676  394707.mp3   \n",
       "6823   161978343  729186.mp3   \n",
       "6828   161984876  482337.mp3   \n",
       "8267   161983957  124678.mp3   \n",
       "8581   161976946   98007.mp3   \n",
       "8783   161978452  629649.mp3   \n",
       "9588   161978486  116483.mp3   \n",
       "10018  161978488  116485.mp3   \n",
       "\n",
       "                                               annotator  \\\n",
       "1212   5560510890581392803743942761910818323546111204...   \n",
       "3700   8926896165619677042001572601386787190420972763...   \n",
       "4159   7199917567709710204485192252039334277832060890...   \n",
       "6823   5560510890581392803743942761910818323546111204...   \n",
       "6828   3687879004483607437843305961928520180301694036...   \n",
       "8267   1000854762852742563558281041488243758990786435...   \n",
       "8581   7526205831694568980367141074683662123375335303...   \n",
       "8783   2511836030875594054249018396648810123064624225...   \n",
       "9588   1847409964593900791579168861090982009818939233...   \n",
       "10018  2999735693560213149163242311436710771999021040...   \n",
       "\n",
       "                                                    text      onset  \\\n",
       "1212   A kitten meows very protractedly one time clos...  14.616757   \n",
       "3700   Noisy, textured beep with a grainy edge, blend...   0.907811   \n",
       "4159                    A flok of birds singing outside.   0.000000   \n",
       "6823      A ball kicking the ground one time, distantly.   0.000000   \n",
       "6828   People talking loudly in a constant pattern in...  18.182063   \n",
       "8267                                  a child is meowing  10.685926   \n",
       "8581   start race bleeps, first 3 repeated low pitche...  18.292501   \n",
       "8783                               metal gate screeching  14.602927   \n",
       "9588                 A short, sharp, high-pitched bark.    0.075945   \n",
       "10018                        A dog is barking furiously.   9.054397   \n",
       "\n",
       "          offset                                    filename_unsafe  \n",
       "1212   15.798844                   729186_Young_Kitty_Meowing 3.mp3  \n",
       "3700    1.347075           159322_dont you tell me - beeps 2wav.mp3  \n",
       "4159   23.668390  394707_170527_0032 dawsholm park with jesswav.mp3  \n",
       "6823    0.339207                   729186_Young_Kitty_Meowing 3.mp3  \n",
       "6828   20.676553           482337_Conversation in Class roomwav.mp3  \n",
       "8267   11.929870  124678_noise doesnt exist_sound workshops_1607...  \n",
       "8581   22.090152                  98007_Start race bleeps  2wav.mp3  \n",
       "8783   17.754497                        629649_Screeching metal.mp3  \n",
       "9588    0.655022                    116483_DogBarkPapillon01wav.mp3  \n",
       "10018   9.800053                    116485_DogBarkPapillon03wav.mp3  "
      ]
     },
     "execution_count": 14,
     "metadata": {},
     "output_type": "execute_result"
    }
   ],
   "source": [
    "duplicates = annotations.duplicated()\n",
    "print(f\"Number of duplicate rows: {duplicates.sum()}\")\n",
    "annotations[duplicates].head(10)\n"
   ]
  },
  {
   "cell_type": "code",
   "execution_count": 15,
   "id": "e3366f4d",
   "metadata": {
    "vscode": {
     "languageId": "python"
    }
   },
   "outputs": [
    {
     "name": "stdout",
     "output_type": "stream",
     "text": [
      "<class 'pandas.core.frame.DataFrame'>\n",
      "RangeIndex: 35826 entries, 0 to 35825\n",
      "Data columns (total 7 columns):\n",
      " #   Column           Non-Null Count  Dtype  \n",
      "---  ------           --------------  -----  \n",
      " 0   task_id          35826 non-null  int64  \n",
      " 1   filename         35826 non-null  object \n",
      " 2   annotator        35826 non-null  object \n",
      " 3   text             35826 non-null  object \n",
      " 4   onset            35826 non-null  float64\n",
      " 5   offset           35826 non-null  float64\n",
      " 6   filename_unsafe  35826 non-null  object \n",
      "dtypes: float64(2), int64(1), object(4)\n",
      "memory usage: 1.9+ MB\n",
      "None\n",
      "            task_id         onset        offset\n",
      "count  3.582600e+04  35826.000000  35826.000000\n",
      "mean   1.619836e+08      7.519307     14.833223\n",
      "std    4.744002e+03      7.580258      8.018508\n",
      "min    1.619765e+08      0.000000      0.088519\n",
      "25%    1.619792e+08      0.029315      7.992713\n",
      "50%    1.619837e+08      5.619811     15.470293\n",
      "75%    1.619872e+08     13.266922     21.105678\n",
      "max    1.621615e+08     29.817754     30.060000\n"
     ]
    }
   ],
   "source": [
    "print(annotations.info())\n",
    "print(annotations.describe())"
   ]
  },
  {
   "cell_type": "markdown",
   "id": "a5bc6918",
   "metadata": {},
   "source": [
    "## Annotattion Quality\n",
    "\\\n",
    "(a) How precise are the temporal annotations?\n",
    "\n",
    "- The annotations are precise in generall (by taking look into subset)\n",
    "\n",
    "(b) How similar are the text annotations that correspond to the same region?\n",
    "\n",
    "- same files tend to have the same meaning for the corresponding parts of audio.\n",
    "\n",
    " Use the complete data set (or a subset) to address the following points quantitatively.\n",
    "\n",
    "(a) How many annotations did we collect per file? How many distinct sound events per file?\n",
    "\n",
    "- max annotation count is 96 per file, min is 1, the mean is 4, But most files have 2-7 annotations (more density in this range).\n",
    "- I took a look at 10 samples... --> most events had 1-4 different sound events.\n",
    "\n",
    " (b) How detailed are the text annotations? How much does the quality of annotations vary between\n",
    " different annotators?\n",
    "\n",
    " - Most text annotations have adjectives describing the sound and the closeness of it (background, in distance....) which follows the annoting criteria.\n",
    " - In General, annotaters gave good & complete sentences as spesified in task 1. There were, of course, some annotations with lower quality (less describing words) but still correct description. \n",
    "\n",
    " (c) Are there any obvious inconsistencies, outliers, or poor-quality annotations in the data? Propose a simple method to filter or fix incorrect or poor-quality annotations (e.g., remove outliers, typos, or\n",
    " spelling errors).\n",
    "\n",
    " - The data seems to be clean with no outliers or poor-quality annotations\n",
    " - However, there should be some methods to filter the data\n",
    " - Method could be : Algorithm that checks if some sentences have same meaning (Natural language Processing - NLP)\n",
    " . In addition, remove null values/ typos /duplicats, remove onset at 29 because this is the end of audio and annotations that looks unlogical or meaningless"
   ]
  },
  {
   "cell_type": "markdown",
   "id": "a1b25631",
   "metadata": {},
   "source": [
    "# Exercise 4\n",
    "\n",
    "Text Features (6 points): Load and analyze the text features of the annotations\n",
    "(file: annotations text embeddings.npy):\n",
    "\n",
    "(a) Cluster the text features. Can you find meaningful clusters?\n",
    "\n",
    "(b) Design a labeling function1 for classes dog and cat. Do the annotations labeled as dog or cat sounds\n",
    "form tight clusters in the text and audio feature space?\n",
    "\n",
    "(c) How well do the audio feature clusters align with text clusters?"
   ]
  },
  {
   "cell_type": "markdown",
   "id": "6e52582e",
   "metadata": {},
   "source": []
  }
 ],
 "metadata": {
  "kernelspec": {
   "display_name": "ml-st",
   "language": "python",
   "name": "ml-st"
  },
  "language_info": {
   "codemirror_mode": {
    "name": "ipython",
    "version": 3
   },
   "file_extension": ".py",
   "mimetype": "text/x-python",
   "name": "python",
   "nbconvert_exporter": "python",
   "pygments_lexer": "ipython3",
   "version": "3.12.4"
  }
 },
 "nbformat": 4,
 "nbformat_minor": 5
}
