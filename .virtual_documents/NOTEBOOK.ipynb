import numpy as np
import pandas as pd
import os
import matplotlib.pyplot as plt


# load the metadata
metadata_df = pd.read_csv("metadata.csv")
title_embeddings = np.load("metadata_title_embeddings.npz")["embeddings"]
keywords_embeddings = np.load("metadata_keywords_embeddings.npz")["embeddings"]


# Setting index
metadata_df.set_index("filename", inplace=True)
metadata_df.head(2)






##  Shape of Data Frame
print("    Shape of Data Frame:")
print("DataFrame shape: \t", metadata_df.shape)
print("DataFrame rows: \t", len(metadata_df.index))
print("DataFrame columns: \t", len(metadata_df.columns))
print("DataFrame column names: \n", metadata_df.columns.to_list())

# # select a column
# metadata['keywords']
# metadata.loc[:, 'keywords']
# metadata[['title', 'keywords']]

# # select a row
# metadata.loc['450016.mp3']
# metadata.loc[['438858.mp3', '128446.mp3'], ["title", "manufacturer"]]

#select a row based on a condition
# (metadata['manufacturer'] == 'FullMetalJedi').head(n=3)






annotations = pd.read_csv("annotations.csv")
# making duration column
# annotations["duartion"] = annotations["offset"] - annotations["onset"]
annotations.head(1)



print("    Shape of annotation:")
print("DataFrame shape: \t", annotations.shape)
print("DataFrame rows: \t", len(annotations.index))
print("DataFrame columns: \t", len(annotations.columns))
print("DataFrame column names: \n", annotations.columns.to_list())

# num annotaors for each audio recording
num_annotators = annotations.groupby("filename")["annotator"].nunique()
print(f'\n number of Annotators (each one annotatd many times): {len(num_annotators)}')  


# # filtering files with more than 1 annotator
# multi_annotators = num_annotators[num_annotators > 1]
# print(f'number of Annotators (each one annotatd many times): {len(multi_annotators)}')

# # Filter metadata_df and annotations using multi_annotators
# filtered_metadata = metadata_df.loc[multi_annotators]
# filtered_annotations = annotations[annotations["filename"].isin(multi_annotators)]













# annotation count per task/file
annotation_counts = annotations["task_id"].value_counts()
print("Min: ", annotation_counts.min())
print("Max: ", annotation_counts.max())
print("Mean: ", annotation_counts.mean())
print("Median: ", annotation_counts.median())



# ANSWER
"""- max annotation count is 96 per file, min is 1, the mean is ~ 4,
 But most files have 2-7 annotations (more density in this range).
- I took a look at 10 samples... --> most events had 1-4 different sound events."""





"""
Took 10 samples.
Created 10 lists of annotation of 10 different files.
"""

# first group the data by filename
grouped_by_filename = annotations.groupby("filename")

# get 10 random filenames from the grouped data
subset_filenames = list(grouped_by_filename.groups.keys())[100:110]

#loop over each group of each file and get the annotations in lists
annotations_list = []
for filename in subset_filenames:
    annotations_list.append(grouped_by_filename.get_group(filename)["text"].to_list())
# print the annotations for each file
for i, filename in enumerate(subset_filenames):
    print(f"Annotations for {filename}:")
    for j, annotation in enumerate(annotations_list[i]):
        print(f"{j + 1}: {annotation}")
    print("\n")



# second_file = annotations.loc["127606.mp3"]
# num_annotators = second_file["annotator"].nunique()

# print(f'WE have ({len(second_file)}) annotations from ({num_annotators}) annotators for 127606.mp3')

# num_annotators = second_file["annotator"].nunique()
# print(f'WE have ({num_annotators}) annotators for 127606.mp3')

# annotations_2nd_file = second_file["text"].to_list()
# for ann in annotations_2nd_file: #print the annotations
#     print(ann)

# second_file.head(1)



plt.title("Histogram of anotations Counts")
annotation_counts.plot.hist(bins=annotation_counts.max(), figsize=(7, 4))
plt.xlabel("annotation counts")
plt.show()
# # another plot with zoom on x-axis
# plt.title("ZOOM Histogram of anotations Counts")
# annotation_counts.plot.hist(bins=annotation_counts.max(), figsize=(7, 4))
# plt.xlim(0, 20)
# plt.xlabel("annotation counts")
# plt.show()



# group by number of annotations that each user did for each task/file
annotations_per_user = annotations.groupby("annotator")["task_id"].count()
annotations_per_user 
# plot
plt.title("Histogram of Annotations per User")
annotations_per_user.plot.hist(bins=annotations_per_user.max(), figsize=(7, 4))
plt.xlabel("annotations per user")
plt.show()



annotations = pd.read_csv("annotations.csv")
annotations[["filename","text"]].head(20)


duplicates = annotations.duplicated()
print(f"Number of duplicate rows: {duplicates.sum()}")
annotations[duplicates].head(10)



print(annotations.info())
print(annotations.describe())









